{
 "cells": [
  {
   "cell_type": "code",
   "execution_count": 1,
   "id": "331c0992-5d8b-48dc-b008-f08ba89523d4",
   "metadata": {},
   "outputs": [],
   "source": [
    "import pandas as pd"
   ]
  },
  {
   "cell_type": "code",
   "execution_count": 2,
   "id": "916b86b3-9b0b-4042-be9d-18ae19adaec7",
   "metadata": {},
   "outputs": [],
   "source": [
    "import matplotlib.pyplot as plt"
   ]
  },
  {
   "cell_type": "code",
   "execution_count": 3,
   "id": "12bad90c-5330-4e84-8c1d-aa105e414379",
   "metadata": {},
   "outputs": [],
   "source": [
    "plt.rcParams['font.sans-serif'] = [\"SimHei\"]\n",
    "plt.rcParams[\"axes.unicode_minus\"] = False"
   ]
  },
  {
   "cell_type": "code",
   "execution_count": 4,
   "id": "fe379151-95d6-4c5e-b5fe-22b5272998fc",
   "metadata": {},
   "outputs": [],
   "source": [
    "shop_data = pd.read_csv('online_shopping_10_cats.csv')"
   ]
  },
  {
   "cell_type": "code",
   "execution_count": 5,
   "id": "6267c8b5-ebe2-4af1-9d14-6760c1b74056",
   "metadata": {},
   "outputs": [
    {
     "data": {
      "text/plain": [
       "1    31728\n",
       "0    31046\n",
       "Name: label, dtype: int64"
      ]
     },
     "execution_count": 5,
     "metadata": {},
     "output_type": "execute_result"
    }
   ],
   "source": [
    "shop_data.label.value_counts()"
   ]
  },
  {
   "cell_type": "code",
   "execution_count": 6,
   "id": "28df3718-7588-427a-8005-1ec80349652f",
   "metadata": {},
   "outputs": [
    {
     "name": "stdout",
     "output_type": "stream",
     "text": [
      "数据总量: 62774 .\n"
     ]
    },
    {
     "data": {
      "text/html": [
       "<div>\n",
       "<style scoped>\n",
       "    .dataframe tbody tr th:only-of-type {\n",
       "        vertical-align: middle;\n",
       "    }\n",
       "\n",
       "    .dataframe tbody tr th {\n",
       "        vertical-align: top;\n",
       "    }\n",
       "\n",
       "    .dataframe thead th {\n",
       "        text-align: right;\n",
       "    }\n",
       "</style>\n",
       "<table border=\"1\" class=\"dataframe\">\n",
       "  <thead>\n",
       "    <tr style=\"text-align: right;\">\n",
       "      <th></th>\n",
       "      <th>cat</th>\n",
       "      <th>review</th>\n",
       "    </tr>\n",
       "  </thead>\n",
       "  <tbody>\n",
       "    <tr>\n",
       "      <th>9939</th>\n",
       "      <td>平板</td>\n",
       "      <td>这价格波动简直了，**感觉分分钟的事～还没寄到就掉了**手机电池很耐用，就是没有悬浮窗是什么意思～</td>\n",
       "    </tr>\n",
       "    <tr>\n",
       "      <th>18871</th>\n",
       "      <td>水果</td>\n",
       "      <td>打开包装有一股味道，不是苹果香，可能是包装散发出来的异味，整整12个，大小比较均匀，迫不及待...</td>\n",
       "    </tr>\n",
       "    <tr>\n",
       "      <th>53663</th>\n",
       "      <td>酒店</td>\n",
       "      <td>绝对超值的酒店!离海边很近,走过场分钟就到码头,可以直接乘船去鼓浪屿.地理位置非常好,从酒店...</td>\n",
       "    </tr>\n",
       "    <tr>\n",
       "      <th>40625</th>\n",
       "      <td>衣服</td>\n",
       "      <td>宝贝非常好穿起来非常舒服比较满意</td>\n",
       "    </tr>\n",
       "    <tr>\n",
       "      <th>44132</th>\n",
       "      <td>衣服</td>\n",
       "      <td>其他都好，一般的棉料。只是这个标签牌会戳死人的你们那么多年就不知道改进一下？只是这个标签牌会...</td>\n",
       "    </tr>\n",
       "    <tr>\n",
       "      <th>1801</th>\n",
       "      <td>书籍</td>\n",
       "      <td>产品细分策略是值得学习的，王文京个人对客户的那种热情也是值得学习的。不过用友的执行力似乎一般...</td>\n",
       "    </tr>\n",
       "    <tr>\n",
       "      <th>33312</th>\n",
       "      <td>洗发水</td>\n",
       "      <td>昨天购买京东*天下午14点秒*。15点我收到的商品，东西还到手价格就降了，这样对同样在京东消...</td>\n",
       "    </tr>\n",
       "    <tr>\n",
       "      <th>16346</th>\n",
       "      <td>水果</td>\n",
       "      <td>苹果已收到，包装完好分量足，各大很脆很甜，个个都很好，谢谢，下次还回来买</td>\n",
       "    </tr>\n",
       "    <tr>\n",
       "      <th>17886</th>\n",
       "      <td>水果</td>\n",
       "      <td>非常新鲜，送货很神速哈！大热天不用去开车去超市买了。</td>\n",
       "    </tr>\n",
       "    <tr>\n",
       "      <th>34955</th>\n",
       "      <td>洗发水</td>\n",
       "      <td>刚收到还没用不知道好不好</td>\n",
       "    </tr>\n",
       "  </tbody>\n",
       "</table>\n",
       "</div>"
      ],
      "text/plain": [
       "       cat                                             review\n",
       "9939    平板  这价格波动简直了，**感觉分分钟的事～还没寄到就掉了**手机电池很耐用，就是没有悬浮窗是什么意思～\n",
       "18871   水果  打开包装有一股味道，不是苹果香，可能是包装散发出来的异味，整整12个，大小比较均匀，迫不及待...\n",
       "53663   酒店  绝对超值的酒店!离海边很近,走过场分钟就到码头,可以直接乘船去鼓浪屿.地理位置非常好,从酒店...\n",
       "40625   衣服                                   宝贝非常好穿起来非常舒服比较满意\n",
       "44132   衣服  其他都好，一般的棉料。只是这个标签牌会戳死人的你们那么多年就不知道改进一下？只是这个标签牌会...\n",
       "1801    书籍  产品细分策略是值得学习的，王文京个人对客户的那种热情也是值得学习的。不过用友的执行力似乎一般...\n",
       "33312  洗发水  昨天购买京东*天下午14点秒*。15点我收到的商品，东西还到手价格就降了，这样对同样在京东消...\n",
       "16346   水果               苹果已收到，包装完好分量足，各大很脆很甜，个个都很好，谢谢，下次还回来买\n",
       "17886   水果                         非常新鲜，送货很神速哈！大热天不用去开车去超市买了。\n",
       "34955  洗发水                                       刚收到还没用不知道好不好"
      ]
     },
     "execution_count": 6,
     "metadata": {},
     "output_type": "execute_result"
    }
   ],
   "source": [
    "shop_data=shop_data[['cat','review']]\n",
    "print(\"数据总量: %d .\" % len(shop_data))\n",
    "shop_data.sample(10)"
   ]
  },
  {
   "cell_type": "code",
   "execution_count": 7,
   "id": "355fa474-4bde-419b-b6c5-021f9c8b6adf",
   "metadata": {},
   "outputs": [
    {
     "name": "stdout",
     "output_type": "stream",
     "text": [
      "在 cat 列中总共有 0 个空值.\n",
      "在 review 列中总共有 1 个空值.\n"
     ]
    }
   ],
   "source": [
    "print(\"在 cat 列中总共有 %d 个空值.\" % shop_data['cat'].isnull().sum())\n",
    "print(\"在 review 列中总共有 %d 个空值.\" % shop_data['review'].isnull().sum())\n",
    "shop_data[shop_data.isnull().values==True]\n",
    "shop_data = shop_data[pd.notnull(shop_data['review'])]"
   ]
  },
  {
   "cell_type": "code",
   "execution_count": 8,
   "id": "6636cfdf-61c0-48e1-938c-54b2737ffe3c",
   "metadata": {},
   "outputs": [
    {
     "data": {
      "text/html": [
       "<div>\n",
       "<style scoped>\n",
       "    .dataframe tbody tr th:only-of-type {\n",
       "        vertical-align: middle;\n",
       "    }\n",
       "\n",
       "    .dataframe tbody tr th {\n",
       "        vertical-align: top;\n",
       "    }\n",
       "\n",
       "    .dataframe thead th {\n",
       "        text-align: right;\n",
       "    }\n",
       "</style>\n",
       "<table border=\"1\" class=\"dataframe\">\n",
       "  <thead>\n",
       "    <tr style=\"text-align: right;\">\n",
       "      <th></th>\n",
       "      <th>cat</th>\n",
       "      <th>count</th>\n",
       "    </tr>\n",
       "  </thead>\n",
       "  <tbody>\n",
       "    <tr>\n",
       "      <th>0</th>\n",
       "      <td>tablet</td>\n",
       "      <td>10000</td>\n",
       "    </tr>\n",
       "    <tr>\n",
       "      <th>1</th>\n",
       "      <td>fruit</td>\n",
       "      <td>10000</td>\n",
       "    </tr>\n",
       "    <tr>\n",
       "      <th>2</th>\n",
       "      <td>shampoo</td>\n",
       "      <td>10000</td>\n",
       "    </tr>\n",
       "    <tr>\n",
       "      <th>3</th>\n",
       "      <td>clothes</td>\n",
       "      <td>10000</td>\n",
       "    </tr>\n",
       "    <tr>\n",
       "      <th>4</th>\n",
       "      <td>hotel</td>\n",
       "      <td>10000</td>\n",
       "    </tr>\n",
       "    <tr>\n",
       "      <th>5</th>\n",
       "      <td>computer</td>\n",
       "      <td>3992</td>\n",
       "    </tr>\n",
       "    <tr>\n",
       "      <th>6</th>\n",
       "      <td>Book</td>\n",
       "      <td>3851</td>\n",
       "    </tr>\n",
       "    <tr>\n",
       "      <th>7</th>\n",
       "      <td>mobile phone</td>\n",
       "      <td>2323</td>\n",
       "    </tr>\n",
       "    <tr>\n",
       "      <th>8</th>\n",
       "      <td>Mengniu</td>\n",
       "      <td>2033</td>\n",
       "    </tr>\n",
       "    <tr>\n",
       "      <th>9</th>\n",
       "      <td>water heater</td>\n",
       "      <td>574</td>\n",
       "    </tr>\n",
       "  </tbody>\n",
       "</table>\n",
       "</div>"
      ],
      "text/plain": [
       "            cat  count\n",
       "0        tablet  10000\n",
       "1         fruit  10000\n",
       "2       shampoo  10000\n",
       "3       clothes  10000\n",
       "4         hotel  10000\n",
       "5      computer   3992\n",
       "6          Book   3851\n",
       "7  mobile phone   2323\n",
       "8       Mengniu   2033\n",
       "9  water heater    574"
      ]
     },
     "execution_count": 8,
     "metadata": {},
     "output_type": "execute_result"
    }
   ],
   "source": [
    "d = {'cat':shop_data['cat'].value_counts().index, 'count': shop_data['cat'].value_counts()}\n",
    "df_cat = pd.DataFrame(data=d).reset_index(drop=True)\n",
    "df_cat[\"cat\"]=['tablet', 'fruit', 'shampoo', 'clothes','hotel','computer','Book','mobile phone','Mengniu','water heater']\n",
    "df_cat"
   ]
  },
  {
   "cell_type": "code",
   "execution_count": 72,
   "id": "e2f3e438-ebfd-451d-a566-42210b1e3ff2",
   "metadata": {},
   "outputs": [
    {
     "data": {
      "text/plain": [
       "['tablet', 10000]"
      ]
     },
     "execution_count": 72,
     "metadata": {},
     "output_type": "execute_result"
    }
   ],
   "source": [
    "df_cat.T[0].to_list()"
   ]
  },
  {
   "cell_type": "code",
   "execution_count": 9,
   "id": "fe9a7cb7-eca5-48c7-9dab-9534d08b0787",
   "metadata": {},
   "outputs": [
    {
     "data": {
      "text/plain": [
       "Text(0.5, 0, '类目')"
      ]
     },
     "execution_count": 9,
     "metadata": {},
     "output_type": "execute_result"
    },
    {
     "data": {
      "image/png": "[encoded data removed]",
      "text/plain": [
       "<Figure size 576x360 with 1 Axes>"
      ]
     },
     "metadata": {
      "needs_background": "light"
     },
     "output_type": "display_data"
    }
   ],
   "source": [
    "df_cat.plot(x='cat', y='count', kind='bar', legend=False,  figsize=(8, 5))\n",
    "plt.title(\"类目分布\")\n",
    "plt.ylabel('数量', fontsize=18)\n",
    "plt.xlabel('类目', fontsize=18)"
   ]
  },
  {
   "cell_type": "code",
   "execution_count": 10,
   "id": "6be5bdcc-fce6-49a2-82d6-0d67ea96e331",
   "metadata": {},
   "outputs": [
    {
     "data": {
      "text/html": [
       "<div>\n",
       "<style scoped>\n",
       "    .dataframe tbody tr th:only-of-type {\n",
       "        vertical-align: middle;\n",
       "    }\n",
       "\n",
       "    .dataframe tbody tr th {\n",
       "        vertical-align: top;\n",
       "    }\n",
       "\n",
       "    .dataframe thead th {\n",
       "        text-align: right;\n",
       "    }\n",
       "</style>\n",
       "<table border=\"1\" class=\"dataframe\">\n",
       "  <thead>\n",
       "    <tr style=\"text-align: right;\">\n",
       "      <th></th>\n",
       "      <th>cat</th>\n",
       "      <th>review</th>\n",
       "      <th>cat_id</th>\n",
       "    </tr>\n",
       "  </thead>\n",
       "  <tbody>\n",
       "    <tr>\n",
       "      <th>22576</th>\n",
       "      <td>水果</td>\n",
       "      <td>上当受骗了，苹果根本就不值这么多钱，还不如超市5块多的，也是打蜡的，歪瓜劣枣比较多，颜色也不...</td>\n",
       "      <td>3</td>\n",
       "    </tr>\n",
       "    <tr>\n",
       "      <th>28387</th>\n",
       "      <td>洗发水</td>\n",
       "      <td>好，非常好，和以前在超市买的气味一样，618活动购买真划算！</td>\n",
       "      <td>4</td>\n",
       "    </tr>\n",
       "    <tr>\n",
       "      <th>47220</th>\n",
       "      <td>衣服</td>\n",
       "      <td>不喜欢紧身的，买错了，伤心</td>\n",
       "      <td>7</td>\n",
       "    </tr>\n",
       "    <tr>\n",
       "      <th>21664</th>\n",
       "      <td>水果</td>\n",
       "      <td>个头不大，一般般吧。分量没有称，不知道呢怎么样，慎重选择吧。买的时候59.9</td>\n",
       "      <td>3</td>\n",
       "    </tr>\n",
       "    <tr>\n",
       "      <th>2264</th>\n",
       "      <td>书籍</td>\n",
       "      <td>这本书孩子不感兴趣。 把书本都给撕了。</td>\n",
       "      <td>0</td>\n",
       "    </tr>\n",
       "    <tr>\n",
       "      <th>9152</th>\n",
       "      <td>平板</td>\n",
       "      <td>唉，换了一次，结果这个比那个耗电还快，还发热，最重要的是耗电快，视频时充电充不进、、、、、、...</td>\n",
       "      <td>1</td>\n",
       "    </tr>\n",
       "    <tr>\n",
       "      <th>14339</th>\n",
       "      <td>手机</td>\n",
       "      <td>机身金属质感很强，做工精细；按键手感舒适；屏幕显示效果不错；摄像头取景速度较快；具备短信群发...</td>\n",
       "      <td>2</td>\n",
       "    </tr>\n",
       "    <tr>\n",
       "      <th>5300</th>\n",
       "      <td>平板</td>\n",
       "      <td>还可以 手感挺不错 屏幕刚好 还在更新不知道效果怎么样 个人感觉华为平板是在国产里做的不错的了。</td>\n",
       "      <td>1</td>\n",
       "    </tr>\n",
       "    <tr>\n",
       "      <th>58057</th>\n",
       "      <td>酒店</td>\n",
       "      <td>根本不配四星 再也不会选择入住 住的最好的豪华楼层 房间小得出奇 也没有浴缸 入住的特殊要求...</td>\n",
       "      <td>9</td>\n",
       "    </tr>\n",
       "    <tr>\n",
       "      <th>13222</th>\n",
       "      <td>平板</td>\n",
       "      <td>快递太慢，下载文件太慢了，不好用。</td>\n",
       "      <td>1</td>\n",
       "    </tr>\n",
       "  </tbody>\n",
       "</table>\n",
       "</div>"
      ],
      "text/plain": [
       "       cat                                             review  cat_id\n",
       "22576   水果  上当受骗了，苹果根本就不值这么多钱，还不如超市5块多的，也是打蜡的，歪瓜劣枣比较多，颜色也不...       3\n",
       "28387  洗发水                     好，非常好，和以前在超市买的气味一样，618活动购买真划算！       4\n",
       "47220   衣服                                      不喜欢紧身的，买错了，伤心       7\n",
       "21664   水果             个头不大，一般般吧。分量没有称，不知道呢怎么样，慎重选择吧。买的时候59.9       3\n",
       "2264    书籍                                这本书孩子不感兴趣。 把书本都给撕了。       0\n",
       "9152    平板  唉，换了一次，结果这个比那个耗电还快，还发热，最重要的是耗电快，视频时充电充不进、、、、、、...       1\n",
       "14339   手机  机身金属质感很强，做工精细；按键手感舒适；屏幕显示效果不错；摄像头取景速度较快；具备短信群发...       2\n",
       "5300    平板   还可以 手感挺不错 屏幕刚好 还在更新不知道效果怎么样 个人感觉华为平板是在国产里做的不错的了。       1\n",
       "58057   酒店  根本不配四星 再也不会选择入住 住的最好的豪华楼层 房间小得出奇 也没有浴缸 入住的特殊要求...       9\n",
       "13222   平板                                  快递太慢，下载文件太慢了，不好用。       1"
      ]
     },
     "execution_count": 10,
     "metadata": {},
     "output_type": "execute_result"
    }
   ],
   "source": [
    "shop_data['cat_id'] = shop_data['cat'].factorize()[0]\n",
    "cat_id_df = shop_data[['cat', 'cat_id']].drop_duplicates().sort_values('cat_id').reset_index(drop=True)\n",
    "cat_to_id = dict(cat_id_df.values)\n",
    "id_to_cat = dict(cat_id_df[['cat_id', 'cat']].values)\n",
    "shop_data.sample(10)"
   ]
  },
  {
   "cell_type": "code",
   "execution_count": 11,
   "id": "323b3cfd-41f5-48f5-a4a2-e10cd4ab688c",
   "metadata": {},
   "outputs": [],
   "source": [
    "cat_id_df.to_csv('cat_id.csv', index=False)"
   ]
  },
  {
   "cell_type": "code",
   "execution_count": 12,
   "id": "0c7420bf-1543-427c-9b08-d75f9e01cadf",
   "metadata": {},
   "outputs": [],
   "source": [
    "import re"
   ]
  },
  {
   "cell_type": "code",
   "execution_count": 13,
   "id": "dfb638f3-e499-40f3-85cc-1c2948d48e1e",
   "metadata": {},
   "outputs": [],
   "source": [
    "#定义删除除字母,数字，汉字以外的所有符号的函数\n",
    "def remove_punctuation(line):\n",
    "    line = str(line)\n",
    "    if line.strip()=='':\n",
    "        return ''\n",
    "    rule = re.compile(u\"[^a-zA-Z0-9\\u4E00-\\u9FA5]\")\n",
    "    line = rule.sub('',line)\n",
    "    return line\n",
    " \n",
    "def stopwordslist(filepath):  \n",
    "    stopwords = [line.strip() for line in open(filepath, 'r', encoding='utf-8').readlines()]  \n",
    "    return stopwords  \n",
    " \n",
    "#加载停用词\n",
    "stopwords = stopwordslist(\"stopwords.txt\")"
   ]
  },
  {
   "cell_type": "code",
   "execution_count": 14,
   "id": "3f44f53a-529b-40aa-aba1-43c461138f3f",
   "metadata": {},
   "outputs": [
    {
     "data": {
      "text/html": [
       "<div>\n",
       "<style scoped>\n",
       "    .dataframe tbody tr th:only-of-type {\n",
       "        vertical-align: middle;\n",
       "    }\n",
       "\n",
       "    .dataframe tbody tr th {\n",
       "        vertical-align: top;\n",
       "    }\n",
       "\n",
       "    .dataframe thead th {\n",
       "        text-align: right;\n",
       "    }\n",
       "</style>\n",
       "<table border=\"1\" class=\"dataframe\">\n",
       "  <thead>\n",
       "    <tr style=\"text-align: right;\">\n",
       "      <th></th>\n",
       "      <th>cat</th>\n",
       "      <th>review</th>\n",
       "      <th>cat_id</th>\n",
       "      <th>clean_review</th>\n",
       "    </tr>\n",
       "  </thead>\n",
       "  <tbody>\n",
       "    <tr>\n",
       "      <th>9008</th>\n",
       "      <td>平板</td>\n",
       "      <td>质量还行吧，但是电池太不经用，还是太小，开机键太硬，要用力按才有反应，不知道是设计就是这样还...</td>\n",
       "      <td>1</td>\n",
       "      <td>质量还行吧但是电池太不经用还是太小开机键太硬要用力按才有反应不知道是设计就是这样还是品控问题...</td>\n",
       "    </tr>\n",
       "    <tr>\n",
       "      <th>24931</th>\n",
       "      <td>水果</td>\n",
       "      <td>萍果收到了，但是遗憾的是萍果与图片相差太大，名不符实。商家一点都没诚信。</td>\n",
       "      <td>3</td>\n",
       "      <td>萍果收到了但是遗憾的是萍果与图片相差太大名不符实商家一点都没诚信</td>\n",
       "    </tr>\n",
       "    <tr>\n",
       "      <th>54683</th>\n",
       "      <td>酒店</td>\n",
       "      <td>本人是第一次去襄樊，记得那天到襄樊已经是10月3号凌晨三点多，我通过携程定的是10月3号的房...</td>\n",
       "      <td>9</td>\n",
       "      <td>本人是第一次去襄樊记得那天到襄樊已经是10月3号凌晨三点多我通过携程定的是10月3号的房酒店...</td>\n",
       "    </tr>\n",
       "    <tr>\n",
       "      <th>19840</th>\n",
       "      <td>水果</td>\n",
       "      <td>是不是烟台的就不知道了，一般般吧</td>\n",
       "      <td>3</td>\n",
       "      <td>是不是烟台的就不知道了一般般吧</td>\n",
       "    </tr>\n",
       "    <tr>\n",
       "      <th>57170</th>\n",
       "      <td>酒店</td>\n",
       "      <td>住的是8楼豪海房，每天就在海边度过，一个字， 爽！酒店服务不错，路上遇见都会微笑问好，早餐还...</td>\n",
       "      <td>9</td>\n",
       "      <td>住的是8楼豪海房每天就在海边度过一个字爽酒店服务不错路上遇见都会微笑问好早餐还算丰富而且到1...</td>\n",
       "    </tr>\n",
       "    <tr>\n",
       "      <th>6783</th>\n",
       "      <td>平板</td>\n",
       "      <td>都不错，就是当天晚上没送到</td>\n",
       "      <td>1</td>\n",
       "      <td>都不错就是当天晚上没送到</td>\n",
       "    </tr>\n",
       "    <tr>\n",
       "      <th>32828</th>\n",
       "      <td>洗发水</td>\n",
       "      <td>东西刚收到，不过买错了，以为是750ml的，这个去屑效果差，头容易痒痒，但是凑合用吧</td>\n",
       "      <td>4</td>\n",
       "      <td>东西刚收到不过买错了以为是750ml的这个去屑效果差头容易痒痒但是凑合用吧</td>\n",
       "    </tr>\n",
       "    <tr>\n",
       "      <th>51588</th>\n",
       "      <td>计算机</td>\n",
       "      <td>为什么不预装xp？硬盘初始分区只有一个，此产品的工程师自己不用电脑？</td>\n",
       "      <td>8</td>\n",
       "      <td>为什么不预装xp硬盘初始分区只有一个此产品的工程师自己不用电脑</td>\n",
       "    </tr>\n",
       "    <tr>\n",
       "      <th>43777</th>\n",
       "      <td>衣服</td>\n",
       "      <td>裤子质量很不错，穿着很舒服，以后还会再来~</td>\n",
       "      <td>7</td>\n",
       "      <td>裤子质量很不错穿着很舒服以后还会再来</td>\n",
       "    </tr>\n",
       "    <tr>\n",
       "      <th>37701</th>\n",
       "      <td>蒙牛</td>\n",
       "      <td>蒙牛的包装变得很简单，之前的什么荣誉，什么免检，通通不见了，希望它能做好质量，做好品牌，真的...</td>\n",
       "      <td>6</td>\n",
       "      <td>蒙牛的包装变得很简单之前的什么荣誉什么免检通通不见了希望它能做好质量做好品牌真的无添加</td>\n",
       "    </tr>\n",
       "  </tbody>\n",
       "</table>\n",
       "</div>"
      ],
      "text/plain": [
       "       cat                                             review  cat_id  \\\n",
       "9008    平板  质量还行吧，但是电池太不经用，还是太小，开机键太硬，要用力按才有反应，不知道是设计就是这样还...       1   \n",
       "24931   水果               萍果收到了，但是遗憾的是萍果与图片相差太大，名不符实。商家一点都没诚信。       3   \n",
       "54683   酒店  本人是第一次去襄樊，记得那天到襄樊已经是10月3号凌晨三点多，我通过携程定的是10月3号的房...       9   \n",
       "19840   水果                                   是不是烟台的就不知道了，一般般吧       3   \n",
       "57170   酒店  住的是8楼豪海房，每天就在海边度过，一个字， 爽！酒店服务不错，路上遇见都会微笑问好，早餐还...       9   \n",
       "6783    平板                                      都不错，就是当天晚上没送到       1   \n",
       "32828  洗发水         东西刚收到，不过买错了，以为是750ml的，这个去屑效果差，头容易痒痒，但是凑合用吧       4   \n",
       "51588  计算机                 为什么不预装xp？硬盘初始分区只有一个，此产品的工程师自己不用电脑？       8   \n",
       "43777   衣服                              裤子质量很不错，穿着很舒服，以后还会再来~       7   \n",
       "37701   蒙牛  蒙牛的包装变得很简单，之前的什么荣誉，什么免检，通通不见了，希望它能做好质量，做好品牌，真的...       6   \n",
       "\n",
       "                                            clean_review  \n",
       "9008   质量还行吧但是电池太不经用还是太小开机键太硬要用力按才有反应不知道是设计就是这样还是品控问题...  \n",
       "24931                   萍果收到了但是遗憾的是萍果与图片相差太大名不符实商家一点都没诚信  \n",
       "54683  本人是第一次去襄樊记得那天到襄樊已经是10月3号凌晨三点多我通过携程定的是10月3号的房酒店...  \n",
       "19840                                    是不是烟台的就不知道了一般般吧  \n",
       "57170  住的是8楼豪海房每天就在海边度过一个字爽酒店服务不错路上遇见都会微笑问好早餐还算丰富而且到1...  \n",
       "6783                                        都不错就是当天晚上没送到  \n",
       "32828              东西刚收到不过买错了以为是750ml的这个去屑效果差头容易痒痒但是凑合用吧  \n",
       "51588                    为什么不预装xp硬盘初始分区只有一个此产品的工程师自己不用电脑  \n",
       "43777                                 裤子质量很不错穿着很舒服以后还会再来  \n",
       "37701        蒙牛的包装变得很简单之前的什么荣誉什么免检通通不见了希望它能做好质量做好品牌真的无添加  "
      ]
     },
     "execution_count": 14,
     "metadata": {},
     "output_type": "execute_result"
    }
   ],
   "source": [
    "shop_data['clean_review'] = shop_data['review'].apply(remove_punctuation)\n",
    "shop_data.sample(10)"
   ]
  },
  {
   "cell_type": "code",
   "execution_count": 15,
   "id": "548a93ed-dfa6-4f60-ba61-8fecf5df7cb8",
   "metadata": {},
   "outputs": [],
   "source": [
    "import jieba"
   ]
  },
  {
   "cell_type": "code",
   "execution_count": 16,
   "id": "f7339ef0-0232-435d-bfe3-c039662cf66c",
   "metadata": {},
   "outputs": [
    {
     "name": "stderr",
     "output_type": "stream",
     "text": [
      "Building prefix dict from the default dictionary ...\n",
      "Loading model from cache C:\\Users\\PC\\AppData\\Local\\Temp\\jieba.cache\n",
      "Loading model cost 0.276 seconds.\n",
      "Prefix dict has been built successfully.\n"
     ]
    },
    {
     "data": {
      "text/html": [
       "<div>\n",
       "<style scoped>\n",
       "    .dataframe tbody tr th:only-of-type {\n",
       "        vertical-align: middle;\n",
       "    }\n",
       "\n",
       "    .dataframe tbody tr th {\n",
       "        vertical-align: top;\n",
       "    }\n",
       "\n",
       "    .dataframe thead th {\n",
       "        text-align: right;\n",
       "    }\n",
       "</style>\n",
       "<table border=\"1\" class=\"dataframe\">\n",
       "  <thead>\n",
       "    <tr style=\"text-align: right;\">\n",
       "      <th></th>\n",
       "      <th>cat</th>\n",
       "      <th>review</th>\n",
       "      <th>cat_id</th>\n",
       "      <th>clean_review</th>\n",
       "      <th>cut_review</th>\n",
       "    </tr>\n",
       "  </thead>\n",
       "  <tbody>\n",
       "    <tr>\n",
       "      <th>0</th>\n",
       "      <td>书籍</td>\n",
       "      <td>﻿做父母一定要有刘墉这样的心态，不断地学习，不断地进步，不断地给自己补充新鲜血液，让自己保持...</td>\n",
       "      <td>0</td>\n",
       "      <td>做父母一定要有刘墉这样的心态不断地学习不断地进步不断地给自己补充新鲜血液让自己保持一颗年轻的...</td>\n",
       "      <td>做 父母 刘墉 心态 学习 补充 新鲜血液 一颗 年轻 心 想 很 好 孩子 沟通 一个 因...</td>\n",
       "    </tr>\n",
       "    <tr>\n",
       "      <th>1</th>\n",
       "      <td>书籍</td>\n",
       "      <td>作者真有英国人严谨的风格，提出观点、进行论述论证，尽管本人对物理学了解不深，但是仍然能感受到...</td>\n",
       "      <td>0</td>\n",
       "      <td>作者真有英国人严谨的风格提出观点进行论述论证尽管本人对物理学了解不深但是仍然能感受到真理的火...</td>\n",
       "      <td>作者 真有 英国人 严谨 风格 提出 观点 论述 论证 本人 物理学 不深 感受 真理 火花...</td>\n",
       "    </tr>\n",
       "    <tr>\n",
       "      <th>2</th>\n",
       "      <td>书籍</td>\n",
       "      <td>作者长篇大论借用详细报告数据处理工作和计算结果支持其新观点。为什么荷兰曾经县有欧洲最高的生产...</td>\n",
       "      <td>0</td>\n",
       "      <td>作者长篇大论借用详细报告数据处理工作和计算结果支持其新观点为什么荷兰曾经县有欧洲最高的生产率...</td>\n",
       "      <td>作者 长篇大论 借用 详细 报告 数据处理 工作 计算结果 支持 其新 观点 荷兰 县有 欧...</td>\n",
       "    </tr>\n",
       "    <tr>\n",
       "      <th>3</th>\n",
       "      <td>书籍</td>\n",
       "      <td>作者在战几时之前用了＂拥抱＂令人叫绝．日本如果没有战败，就有会有美军的占领，没胡官僚主义的延...</td>\n",
       "      <td>0</td>\n",
       "      <td>作者在战几时之前用了拥抱令人叫绝日本如果没有战败就有会有美军的占领没胡官僚主义的延续没有战后...</td>\n",
       "      <td>作者 战 拥抱 令人 叫绝 日本 战败 会 美军 占领 没胡 官僚主义 延续 战后 民发 反...</td>\n",
       "    </tr>\n",
       "    <tr>\n",
       "      <th>4</th>\n",
       "      <td>书籍</td>\n",
       "      <td>作者在少年时即喜阅读，能看出他精读了无数经典，因而他有一个庞大的内心世界。他的作品最难能可贵...</td>\n",
       "      <td>0</td>\n",
       "      <td>作者在少年时即喜阅读能看出他精读了无数经典因而他有一个庞大的内心世界他的作品最难能可贵的有两...</td>\n",
       "      <td>作者 少年 时即 喜 阅读 精读 无数 经典 一个 庞大 内心世界 作品 最 难能可贵 两点...</td>\n",
       "    </tr>\n",
       "  </tbody>\n",
       "</table>\n",
       "</div>"
      ],
      "text/plain": [
       "  cat                                             review  cat_id  \\\n",
       "0  书籍  ﻿做父母一定要有刘墉这样的心态，不断地学习，不断地进步，不断地给自己补充新鲜血液，让自己保持...       0   \n",
       "1  书籍  作者真有英国人严谨的风格，提出观点、进行论述论证，尽管本人对物理学了解不深，但是仍然能感受到...       0   \n",
       "2  书籍  作者长篇大论借用详细报告数据处理工作和计算结果支持其新观点。为什么荷兰曾经县有欧洲最高的生产...       0   \n",
       "3  书籍  作者在战几时之前用了＂拥抱＂令人叫绝．日本如果没有战败，就有会有美军的占领，没胡官僚主义的延...       0   \n",
       "4  书籍  作者在少年时即喜阅读，能看出他精读了无数经典，因而他有一个庞大的内心世界。他的作品最难能可贵...       0   \n",
       "\n",
       "                                        clean_review  \\\n",
       "0  做父母一定要有刘墉这样的心态不断地学习不断地进步不断地给自己补充新鲜血液让自己保持一颗年轻的...   \n",
       "1  作者真有英国人严谨的风格提出观点进行论述论证尽管本人对物理学了解不深但是仍然能感受到真理的火...   \n",
       "2  作者长篇大论借用详细报告数据处理工作和计算结果支持其新观点为什么荷兰曾经县有欧洲最高的生产率...   \n",
       "3  作者在战几时之前用了拥抱令人叫绝日本如果没有战败就有会有美军的占领没胡官僚主义的延续没有战后...   \n",
       "4  作者在少年时即喜阅读能看出他精读了无数经典因而他有一个庞大的内心世界他的作品最难能可贵的有两...   \n",
       "\n",
       "                                          cut_review  \n",
       "0  做 父母 刘墉 心态 学习 补充 新鲜血液 一颗 年轻 心 想 很 好 孩子 沟通 一个 因...  \n",
       "1  作者 真有 英国人 严谨 风格 提出 观点 论述 论证 本人 物理学 不深 感受 真理 火花...  \n",
       "2  作者 长篇大论 借用 详细 报告 数据处理 工作 计算结果 支持 其新 观点 荷兰 县有 欧...  \n",
       "3  作者 战 拥抱 令人 叫绝 日本 战败 会 美军 占领 没胡 官僚主义 延续 战后 民发 反...  \n",
       "4  作者 少年 时即 喜 阅读 精读 无数 经典 一个 庞大 内心世界 作品 最 难能可贵 两点...  "
      ]
     },
     "execution_count": 16,
     "metadata": {},
     "output_type": "execute_result"
    }
   ],
   "source": [
    "#分词，并过滤停用词\n",
    "shop_data['cut_review'] = shop_data['clean_review'].apply(lambda x: \" \".join([w for w in list(jieba.lcut(x)) if w not in stopwords]))\n",
    "shop_data.head()"
   ]
  },
  {
   "cell_type": "code",
   "execution_count": 17,
   "id": "78cd283e-57cc-4046-9098-96bfd0b5fe86",
   "metadata": {},
   "outputs": [],
   "source": [
    "from keras.preprocessing.text import Tokenizer"
   ]
  },
  {
   "cell_type": "code",
   "execution_count": 18,
   "id": "3acc7916-46a6-4bf8-9aa7-0e16c7199f0e",
   "metadata": {},
   "outputs": [
    {
     "name": "stdout",
     "output_type": "stream",
     "text": [
      "共有 70200 个不相同的词语.\n"
     ]
    }
   ],
   "source": [
    "# 设置最频繁使用的50000个词\n",
    "MAX_NB_WORDS = 50000\n",
    "# 每条cut_review最大的长度\n",
    "MAX_SEQUENCE_LENGTH = 250\n",
    "# 设置Embeddingceng层的维度\n",
    "EMBEDDING_DIM = 100\n",
    " \n",
    "tokenizer = Tokenizer(num_words=MAX_NB_WORDS, filters='!\"#$%&()*+,-./:;<=>?@[\\]^_`{|}~', lower=True)\n",
    "tokenizer.fit_on_texts(shop_data['cut_review'].values)\n",
    "word_index = tokenizer.word_index\n",
    "print('共有 %s 个不相同的词语.' % len(word_index))"
   ]
  },
  {
   "cell_type": "code",
   "execution_count": 30,
   "id": "7780c8a5-9254-45bf-9144-02200ecd57af",
   "metadata": {},
   "outputs": [],
   "source": [
    "import pickle \n",
    "\n",
    "with open('tokenizer.pickle', 'wb') as handle: \n",
    "    pickle.dump(tokenizer, handle, protocol=pickle.HIGHEST_PROTOCOL) "
   ]
  },
  {
   "cell_type": "code",
   "execution_count": 19,
   "id": "31c33caf-59d2-463d-81f7-2aaeeafb289f",
   "metadata": {},
   "outputs": [],
   "source": [
    "from keras.preprocessing.sequence import pad_sequences"
   ]
  },
  {
   "cell_type": "code",
   "execution_count": 20,
   "id": "0675f68a-4b7c-4215-99a5-4105f72d164d",
   "metadata": {},
   "outputs": [
    {
     "name": "stdout",
     "output_type": "stream",
     "text": [
      "(62773, 250)\n",
      "(62773, 10)\n"
     ]
    }
   ],
   "source": [
    "X = tokenizer.texts_to_sequences(shop_data['cut_review'].values)\n",
    "#填充X,让X的各个列的长度统一\n",
    "X = pad_sequences(X, maxlen=MAX_SEQUENCE_LENGTH)\n",
    " \n",
    "#多类标签的onehot展开\n",
    "Y = pd.get_dummies(shop_data['cat_id']).values\n",
    " \n",
    "print(X.shape)\n",
    "print(Y.shape)"
   ]
  },
  {
   "cell_type": "code",
   "execution_count": 21,
   "id": "75da6926-18bf-48bf-b926-73b6d8c71b4d",
   "metadata": {},
   "outputs": [],
   "source": [
    "from sklearn.model_selection import train_test_split"
   ]
  },
  {
   "cell_type": "code",
   "execution_count": 22,
   "id": "8272b77a-87a0-44a8-a4cb-ceec5a911a96",
   "metadata": {},
   "outputs": [
    {
     "name": "stdout",
     "output_type": "stream",
     "text": [
      "(56495, 250) (56495, 10)\n",
      "(6278, 250) (6278, 10)\n"
     ]
    }
   ],
   "source": [
    "#拆分训练集和测试集\n",
    "X_train, X_test, Y_train, Y_test = train_test_split(X,Y, test_size = 0.10, random_state = 42)\n",
    "print(X_train.shape,Y_train.shape)\n",
    "print(X_test.shape,Y_test.shape)"
   ]
  },
  {
   "cell_type": "code",
   "execution_count": 23,
   "id": "73558762-9928-4267-813c-16e1225a3111",
   "metadata": {},
   "outputs": [],
   "source": [
    "from keras.models import Sequential"
   ]
  },
  {
   "cell_type": "code",
   "execution_count": 24,
   "id": "1a32e2a8-c465-4360-b273-928704aaa1cc",
   "metadata": {},
   "outputs": [],
   "source": [
    "from keras.layers import Embedding, LSTM, Dense, Dropout, SpatialDropout1D"
   ]
  },
  {
   "cell_type": "code",
   "execution_count": 25,
   "id": "3b3a996e-daa9-41b3-922b-f7efbc3db5fe",
   "metadata": {},
   "outputs": [],
   "source": [
    "from keras.callbacks import EarlyStopping"
   ]
  },
  {
   "cell_type": "code",
   "execution_count": 30,
   "id": "6da8693f-5772-463b-828d-c30ecd857bd5",
   "metadata": {},
   "outputs": [
    {
     "name": "stdout",
     "output_type": "stream",
     "text": [
      "Model: \"sequential_4\"\n",
      "_________________________________________________________________\n",
      " Layer (type)                Output Shape              Param #   \n",
      "=================================================================\n",
      " embedding_4 (Embedding)     (None, 250, 100)          5000000   \n",
      "                                                                 \n",
      " spatial_dropout1d_4 (Spatia  (None, 250, 100)         0         \n",
      " lDropout1D)                                                     \n",
      "                                                                 \n",
      " lstm_7 (LSTM)               (None, 128)               117248    \n",
      "                                                                 \n",
      " dense_1 (Dense)             (None, 10)                1290      \n",
      "                                                                 \n",
      "=================================================================\n",
      "Total params: 5,118,538\n",
      "Trainable params: 5,118,538\n",
      "Non-trainable params: 0\n",
      "_________________________________________________________________\n"
     ]
    }
   ],
   "source": [
    "#定义模型\n",
    "model = Sequential()\n",
    "model.add(Embedding(MAX_NB_WORDS, EMBEDDING_DIM, input_length=X.shape[1]))\n",
    "model.add(SpatialDropout1D(0.2))\n",
    "model.add(LSTM(100, dropout=0.2, recurrent_dropout=0.2))\n",
    "# model.add(LSTM(100, dropout=0.2))\n",
    "model.add(Dense(10, activation='softmax'))\n",
    "model.compile(loss='categorical_crossentropy', optimizer='adam', metrics=['accuracy'])\n",
    "model.summary()"
   ]
  },
  {
   "cell_type": "code",
   "execution_count": 31,
   "id": "bce7d89e-0b61-4e74-a641-b12654510a25",
   "metadata": {},
   "outputs": [
    {
     "name": "stdout",
     "output_type": "stream",
     "text": [
      "Epoch 1/10\n",
      "795/795 [==============================] - 16s 16ms/step - loss: 0.8030 - accuracy: 0.7330 - val_loss: 0.3866 - val_accuracy: 0.8754\n",
      "Epoch 2/10\n",
      "795/795 [==============================] - 13s 16ms/step - loss: 0.3064 - accuracy: 0.8969 - val_loss: 0.3702 - val_accuracy: 0.8781\n",
      "Epoch 3/10\n",
      "795/795 [==============================] - 13s 16ms/step - loss: 0.2199 - accuracy: 0.9264 - val_loss: 0.3353 - val_accuracy: 0.8871\n",
      "Epoch 4/10\n",
      "795/795 [==============================] - 13s 16ms/step - loss: 0.1750 - accuracy: 0.9409 - val_loss: 0.3514 - val_accuracy: 0.8878\n",
      "Epoch 5/10\n",
      "795/795 [==============================] - 13s 16ms/step - loss: 0.1492 - accuracy: 0.9471 - val_loss: 0.3691 - val_accuracy: 0.8865\n",
      "Epoch 6/10\n",
      "795/795 [==============================] - 13s 16ms/step - loss: 0.1342 - accuracy: 0.9541 - val_loss: 0.3739 - val_accuracy: 0.8862\n"
     ]
    }
   ],
   "source": [
    "epochs = 10\n",
    "batch_size = 64\n",
    " \n",
    "history = model.fit(X_train, Y_train, epochs=epochs, batch_size=batch_size,validation_split=0.1,\n",
    "                    callbacks=[EarlyStopping(monitor='val_loss', patience=3, min_delta=0.0001)])"
   ]
  },
  {
   "cell_type": "code",
   "execution_count": 32,
   "id": "459a04e0-3388-4a80-9227-7229ae751b9b",
   "metadata": {
    "tags": []
   },
   "outputs": [
    {
     "name": "stdout",
     "output_type": "stream",
     "text": [
      "197/197 [==============================] - 1s 6ms/step - loss: 0.3802 - accuracy: 0.8832\n",
      "测试损失：0.380187 测试准确率: 0.883243\n"
     ]
    }
   ],
   "source": [
    "test_loss, test_acc = model.evaluate(X_test, Y_test)\n",
    "print('测试损失：%f 测试准确率: %f' % (test_loss, test_acc))"
   ]
  },
  {
   "cell_type": "code",
   "execution_count": 33,
   "id": "1f21ce79-f7ec-45f2-9cd7-2dce2c332f92",
   "metadata": {},
   "outputs": [],
   "source": [
    "acc = history.history['accuracy']\n",
    "val_acc = history.history['val_accuracy']\n",
    "loss = history.history['loss']\n",
    "val_loss = history.history['val_loss']"
   ]
  },
  {
   "cell_type": "code",
   "execution_count": null,
   "id": "6e1e895b-7f78-4b69-aecd-76d78946d639",
   "metadata": {},
   "outputs": [],
   "source": [
    "pd.DataFrame([acc, val_acc, loss, val_loss], index=['acc', 'val_acc', 'loss', 'val_loss']).T.to_csv('Indicator_cat10.csv')"
   ]
  },
  {
   "cell_type": "code",
   "execution_count": 68,
   "id": "09cc32c3-a7aa-40ff-b55a-38412265bc7c",
   "metadata": {},
   "outputs": [
    {
     "data": {
      "image/png": "[encoded data removed]",
      "text/plain": [
       "<Figure size 1152x432 with 2 Axes>"
      ]
     },
     "metadata": {
      "needs_background": "light"
     },
     "output_type": "display_data"
    }
   ],
   "source": [
    "plt.figure(figsize=(16, 6))\n",
    "\n",
    "plt.subplot(1, 2, 1)\n",
    "plt.plot(acc, label='Training Accuracy')\n",
    "plt.plot(val_acc, label='Validation Accuracy')\n",
    "plt.title('Training and Validation Accuracy')\n",
    "plt.legend()\n",
    "\n",
    "plt.subplot(1, 2, 2)\n",
    "plt.plot(loss, label='Training Loss')\n",
    "plt.plot(val_loss, label='Validation Loss')\n",
    "plt.title('Training and Validation Loss')\n",
    "plt.legend()\n",
    "plt.show()"
   ]
  },
  {
   "cell_type": "code",
   "execution_count": 48,
   "id": "2c14d6b9-2bd0-4b76-8dba-2acea4b34a07",
   "metadata": {},
   "outputs": [],
   "source": [
    "model.save('shopping_10_cats.h5')"
   ]
  },
  {
   "cell_type": "code",
   "execution_count": 43,
   "id": "44830c40-6ed9-4605-98db-f90c0994c8df",
   "metadata": {},
   "outputs": [],
   "source": [
    "from sklearn.metrics import classification_report"
   ]
  },
  {
   "cell_type": "code",
   "execution_count": 44,
   "id": "3bdbfce8-8cac-4911-8fa8-e4606ef300b0",
   "metadata": {
    "tags": []
   },
   "outputs": [],
   "source": [
    "y_pred = model.predict(X_test)\n",
    "y_pred = y_pred.argmax(axis = 1)\n",
    "Y_test = Y_test.argmax(axis = 1)"
   ]
  },
  {
   "cell_type": "code",
   "execution_count": 62,
   "id": "f27bab65-f225-45ce-8744-73dce8fac62f",
   "metadata": {},
   "outputs": [],
   "source": [
    "pd.DataFrame(classification_report(Y_test, y_pred, output_dict=True, target_names=['Book','tablet','mobile phone','fruit','shampoo','water heater','Mengniu','clothes','computer','hotel'])).to_csv('classification_report.csv')"
   ]
  },
  {
   "cell_type": "code",
   "execution_count": 66,
   "id": "95c7eb17-8624-4d25-86d6-406ace3ddb39",
   "metadata": {
    "tags": []
   },
   "outputs": [
    {
     "name": "stdout",
     "output_type": "stream",
     "text": [
      "              precision    recall  f1-score   support\n",
      "\n",
      "        Book       0.97      0.93      0.95       373\n",
      "      tablet       0.77      0.83      0.80       998\n",
      "mobile phone       0.86      0.83      0.85       250\n",
      "       fruit       0.90      0.90      0.90       965\n",
      "     shampoo       0.82      0.82      0.82      1006\n",
      "water heater       0.74      0.46      0.57        54\n",
      "     Mengniu       1.00      1.00      1.00       204\n",
      "     clothes       0.90      0.88      0.89       992\n",
      "    computer       0.89      0.90      0.89       400\n",
      "       hotel       0.99      0.97      0.98      1036\n",
      "\n",
      "    accuracy                           0.88      6278\n",
      "   macro avg       0.88      0.85      0.86      6278\n",
      "weighted avg       0.88      0.88      0.88      6278\n",
      "\n"
     ]
    }
   ],
   "source": [
    "print(classification_report(Y_test, y_pred, target_names=['Book','tablet','mobile phone','fruit','shampoo','water heater','Mengniu','clothes','computer','hotel']))"
   ]
  },
  {
   "cell_type": "code",
   "execution_count": 19,
   "id": "81b0261c-b867-41b8-99db-a48e39975631",
   "metadata": {},
   "outputs": [],
   "source": [
    "def predict(text):\n",
    "    txt = remove_punctuation(text)\n",
    "    txt = [\" \".join([w for w in list(jieba.cut(txt)) if w not in stopwords])]\n",
    "    seq = tokenizer.texts_to_sequences(txt)\n",
    "    padded = pad_sequences(seq, maxlen=MAX_SEQUENCE_LENGTH)\n",
    "    pred = model.predict(padded)\n",
    "    cat_id= pred.argmax(axis=1)[0]\n",
    "    return cat_id_df[cat_id_df.cat_id==cat_id]['cat'].values[0]"
   ]
  },
  {
   "cell_type": "code",
   "execution_count": 56,
   "id": "25d571c2-a762-4663-916e-797ffabdbe57",
   "metadata": {},
   "outputs": [
    {
     "data": {
      "text/plain": [
       "'水果'"
      ]
     },
     "execution_count": 56,
     "metadata": {},
     "output_type": "execute_result"
    }
   ],
   "source": [
    "predict('苹果好吃又不贵，已经买了很多次了')"
   ]
  },
  {
   "cell_type": "code",
   "execution_count": 57,
   "id": "62ef9fe1-a319-480a-8e43-2c199dac86b1",
   "metadata": {},
   "outputs": [
    {
     "data": {
      "text/plain": [
       "'平板'"
      ]
     },
     "execution_count": 57,
     "metadata": {},
     "output_type": "execute_result"
    }
   ],
   "source": [
    "predict('收到产品已经半个多月了，一开始用着不太好用，慢慢的就好使了，可能是习惯问题吧，主要是屏的分辨率真的不错。')"
   ]
  },
  {
   "cell_type": "code",
   "execution_count": 58,
   "id": "38175817-7072-4fb8-b81f-94b53117b621",
   "metadata": {},
   "outputs": [
    {
     "data": {
      "text/plain": [
       "'书籍'"
      ]
     },
     "execution_count": 58,
     "metadata": {},
     "output_type": "execute_result"
    }
   ],
   "source": [
    "predict('可能中外文化理解差异，可能与小孩子太有代沟，不觉得怎么样，还是比较喜欢水墨画一点风格的漫画书，但愿我女儿长大点能喜欢（22个月中)')"
   ]
  },
  {
   "cell_type": "code",
   "execution_count": 59,
   "id": "d7d6038b-c62e-48d1-b3de-b0acd4390b9b",
   "metadata": {},
   "outputs": [
    {
     "data": {
      "text/plain": [
       "'洗发水'"
      ]
     },
     "execution_count": 59,
     "metadata": {},
     "output_type": "execute_result"
    }
   ],
   "source": [
    "predict('假的，不好用，头皮痒的要命。。。')"
   ]
  },
  {
   "cell_type": "code",
   "execution_count": 60,
   "id": "5ce48572-530d-4032-98c2-9864dc73b4dc",
   "metadata": {},
   "outputs": [
    {
     "data": {
      "text/plain": [
       "'酒店'"
      ]
     },
     "execution_count": 60,
     "metadata": {},
     "output_type": "execute_result"
    }
   ],
   "source": [
    "predict('这是第三次点评，纯粹是为了拿积分。没什么可以多说了，服务不错。')"
   ]
  },
  {
   "cell_type": "markdown",
   "id": "d9cd5b3c-28b8-4d7e-88b9-132a5ec03273",
   "metadata": {},
   "source": [
    "-----"
   ]
  },
  {
   "cell_type": "code",
   "execution_count": 20,
   "id": "9a3a4bb8-7130-4cd5-a496-c0ac2751f880",
   "metadata": {},
   "outputs": [],
   "source": [
    "import requests\n",
    "import random\n",
    "import json\n",
    "from hashlib import md5"
   ]
  },
  {
   "cell_type": "code",
   "execution_count": 21,
   "id": "974bcd0e-cd87-4168-bec9-9a3ec09c77bc",
   "metadata": {},
   "outputs": [],
   "source": [
    "def translate(string):    \n",
    "    # Set your own appid/appkey.\n",
    "    appid = '20220911001339781'\n",
    "    appkey = 'oGkv8qDxc1lQjeiA0nQW'\n",
    "\n",
    "    # For list of language codes, please refer to `https://api.fanyi.baidu.com/doc/21`\n",
    "    from_lang = 'en'\n",
    "    to_lang =  'zh'\n",
    "\n",
    "    endpoint = 'http://api.fanyi.baidu.com'\n",
    "    path = '/api/trans/vip/translate'\n",
    "    url = endpoint + path\n",
    "\n",
    "    query = string\n",
    "\n",
    "    # Generate salt and sign\n",
    "    def make_md5(s, encoding='utf-8'):\n",
    "        return md5(s.encode(encoding)).hexdigest()\n",
    "\n",
    "    salt = random.randint(32768, 65536)\n",
    "    sign = make_md5(appid + query + str(salt) + appkey)\n",
    "\n",
    "    # Build request\n",
    "    headers = {'Content-Type': 'application/x-www-form-urlencoded'}\n",
    "    payload = {'appid': appid, 'q': query, 'from': from_lang, 'to': to_lang, 'salt': salt, 'sign': sign}\n",
    "\n",
    "    # Send request\n",
    "    r = requests.post(url, params=payload, headers=headers)\n",
    "    result = r.json()\n",
    "    return result[\"trans_result\"][0][\"dst\"]"
   ]
  },
  {
   "cell_type": "code",
   "execution_count": null,
   "id": "f6d3f1d6-f78a-42e8-ab59-2bbf1d7a8105",
   "metadata": {},
   "outputs": [],
   "source": []
  }
 ],
 "metadata": {
  "kernelspec": {
   "display_name": "tensorflow",
   "language": "python",
   "name": "tensorflow"
  },
  "language_info": {
   "codemirror_mode": {
    "name": "ipython",
    "version": 3
   },
   "file_extension": ".py",
   "mimetype": "text/x-python",
   "name": "python",
   "nbconvert_exporter": "python",
   "pygments_lexer": "ipython3",
   "version": "3.9.10"
  }
 },
 "nbformat": 4,
 "nbformat_minor": 5
}
